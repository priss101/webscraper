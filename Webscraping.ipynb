{
 "cells": [
  {
   "cell_type": "code",
   "execution_count": 1,
   "metadata": {},
   "outputs": [],
   "source": [
    "import requests\n",
    "import pandas as pd\n",
    "import re\n",
    "import bs4"
   ]
  },
  {
   "cell_type": "code",
   "execution_count": 2,
   "metadata": {},
   "outputs": [],
   "source": [
    "import requests\n",
    "\n",
    "url = 'https://www.ebi.ac.uk/merops/cgi-bin/smi_index'\n",
    "\n",
    "page = requests.get(url).content.decode()"
   ]
  },
  {
   "cell_type": "code",
   "execution_count": 4,
   "metadata": {},
   "outputs": [
    {
     "data": {
      "text/plain": [
       "<Response [200]>"
      ]
     },
     "execution_count": 4,
     "metadata": {},
     "output_type": "execute_result"
    }
   ],
   "source": [
    "response = requests.get(url)\n",
    "content = response.content\n",
    "page = content.decode()"
   ]
  },
  {
   "cell_type": "code",
   "execution_count": null,
   "metadata": {},
   "outputs": [],
   "source": [
    "import bs4\n",
    "\n",
    "soup = bs4.BeautifulSoup(content, 'lxml') # needs to pass through content (bytes) not page (string)"
   ]
  },
  {
   "cell_type": "code",
   "execution_count": 16,
   "metadata": {},
   "outputs": [],
   "source": [
    "table = soup.find('table')"
   ]
  },
  {
   "cell_type": "code",
   "execution_count": 20,
   "metadata": {},
   "outputs": [
    {
     "data": {
      "text/plain": [
       "bs4.element.ResultSet"
      ]
     },
     "execution_count": 20,
     "metadata": {},
     "output_type": "execute_result"
    }
   ],
   "source": [
    "table_rows = table.find_all('tr')\n",
    "type(table_rows)"
   ]
  },
  {
   "cell_type": "code",
   "execution_count": null,
   "metadata": {},
   "outputs": [],
   "source": [
    "for row in table_rows:\n",
    "    td = row.find_all('td')\n",
    "    for data in td:\n",
    "        print(data.text)"
   ]
  },
  {
   "cell_type": "code",
   "execution_count": 22,
   "metadata": {},
   "outputs": [
    {
     "data": {
      "text/plain": [
       "[                                                      (  \\\n",
       " 0     (+)-2-[4-[(-1-acetimidoyl-4-piperidinyl)oxy]- ...   \n",
       " 1     (2-benzyl-3-mercaptopropanoyl)-L-alanylglycina...   \n",
       " 2     (2S)-5-amino-2-[(1-n-propyl-1H-imidazol-4-yl)m...   \n",
       " 3     (3R)-amino-(2S)-hydroxyheptanoyl-l-Ala-l-Leu-l...   \n",
       " 4     (3S,4S)-3-amino-4-mercapto-6-phenyl-hexane-1-s...   \n",
       " ...                                                 ...   \n",
       " 2814                                           zVLL-CHO   \n",
       " 2815                                            ZY15557   \n",
       " 2816                                            ZYDPLA1   \n",
       " 2817                                                  {   \n",
       " 2818       4-[(4-arsonophenyl)methyl]phenylarsonic acid   \n",
       " \n",
       "                                                     (.1  (.2  \n",
       " 0                                              DX-9065a  NaN  \n",
       " 1     (2-benzyl-3-mercaptopropanoyl)-L-alanylglycina...  NaN  \n",
       " 2                                             UK-396082  NaN  \n",
       " 3        small-molecule inhibitors of metallopeptidases  NaN  \n",
       " 4     (3S,4S)-3-amino-4-mercapto-6-phenyl-hexane-1-s...  NaN  \n",
       " ...                                                 ...  ...  \n",
       " 2814                                    Z-Val-Leu-Leu-H  NaN  \n",
       " 2815         small-molecule serine peptidase inhibitors  NaN  \n",
       " 2816         small-molecule serine peptidase inhibitors  NaN  \n",
       " 2817                                                  {    {  \n",
       " 2818                                           NSC48300  NaN  \n",
       " \n",
       " [2819 rows x 3 columns]]"
      ]
     },
     "execution_count": 22,
     "metadata": {},
     "output_type": "execute_result"
    }
   ],
   "source": [
    "# pandas \n",
    "\n",
    "tables = pd.read_html(url)\n",
    "tables"
   ]
  },
  {
   "cell_type": "markdown",
   "metadata": {},
   "source": [
    "# Zillow "
   ]
  },
  {
   "cell_type": "code",
   "execution_count": 54,
   "metadata": {},
   "outputs": [],
   "source": [
    "req_headers = {\n",
    "    'accept': 'text/html,application/xhtml+xml,application/xml;q=0.9,image/webp,image/apng,*/*;q=0.8',\n",
    "    'accept-encoding': 'gzip, deflate, br',\n",
    "    'accept-language': 'en-US,en;q=0.8',\n",
    "    'upgrade-insecure-requests': '1',\n",
    "    'user-agent': 'Mozilla/5.0 (Windows NT 10.0; Win64; x64) AppleWebKit/537.36 (KHTML, like Gecko) Chrome/61.0.3163.100 Safari/537.36'\n",
    "}"
   ]
  },
  {
   "cell_type": "code",
   "execution_count": 102,
   "metadata": {},
   "outputs": [
    {
     "data": {
      "text/plain": [
       "[<address class=\"list-card-addr\">3460 Harding St, Carlsbad, CA 92008</address>,\n",
       " <address class=\"list-card-addr\">1676 Corte Orchidia, Carlsbad, CA 92011</address>,\n",
       " <address class=\"list-card-addr\">3307 Rancho Carrizo, Carlsbad, CA 92009</address>,\n",
       " <address class=\"list-card-addr\">2630 Pirineos Way UNIT 11, Carlsbad, CA 92009</address>,\n",
       " <address class=\"list-card-addr\">3131 Avenida Topanga, Carlsbad, CA 92009</address>,\n",
       " <address class=\"list-card-addr\">2501 Navarra Dr UNIT 124, Carlsbad, CA 92009</address>,\n",
       " <address class=\"list-card-addr\">7266 San Luis St, Carlsbad, CA 92011</address>,\n",
       " <address class=\"list-card-addr\">3482 Rich Field Dr, Carlsbad, CA 92010</address>,\n",
       " <address class=\"list-card-addr\">3129 Avenida Topanga, Carlsbad, CA 92009</address>]"
      ]
     },
     "execution_count": 102,
     "metadata": {},
     "output_type": "execute_result"
    }
   ],
   "source": [
    "url = 'https://www.zillow.com/homes/carlsbad_rb/'\n",
    "\n",
    "page = requests.get(url, headers = req_headers).content\n",
    " \n",
    "soup = BeautifulSoup(page, 'html.parser') # use html.pasrer instead of lxml\n",
    "soup.find_all(class_ = 'list-card-addr') # gets a list of all othe tags that fit the search term"
   ]
  },
  {
   "cell_type": "code",
   "execution_count": 103,
   "metadata": {},
   "outputs": [
    {
     "data": {
      "text/plain": [
       "bs4.element.Tag"
      ]
     },
     "execution_count": 103,
     "metadata": {},
     "output_type": "execute_result"
    }
   ],
   "source": [
    "type(soup.find_all(class_ = 'list-card-addr')[0]) # what is the type of each of these elements"
   ]
  },
  {
   "cell_type": "code",
   "execution_count": 101,
   "metadata": {},
   "outputs": [
    {
     "name": "stdout",
     "output_type": "stream",
     "text": [
      "3460 Harding St, Carlsbad, CA 92008\n",
      "1676 Corte Orchidia, Carlsbad, CA 92011\n",
      "3307 Rancho Carrizo, Carlsbad, CA 92009\n",
      "2630 Pirineos Way UNIT 11, Carlsbad, CA 92009\n",
      "3131 Avenida Topanga, Carlsbad, CA 92009\n",
      "2501 Navarra Dr UNIT 124, Carlsbad, CA 92009\n",
      "7266 San Luis St, Carlsbad, CA 92011\n",
      "3482 Rich Field Dr, Carlsbad, CA 92010\n",
      "3129 Avenida Topanga, Carlsbad, CA 92009\n"
     ]
    }
   ],
   "source": [
    "addresses = soup.find_all(class_ = 'list-card-addr') # get addreses\n",
    "for address in addresses: # get addreses\n",
    "    print(address.text)"
   ]
  },
  {
   "cell_type": "code",
   "execution_count": 99,
   "metadata": {},
   "outputs": [
    {
     "name": "stdout",
     "output_type": "stream",
     "text": [
      "$1,295,000\n",
      "$1,575,000\n",
      "$1,149,999\n",
      "$559,900\n",
      "$537,000\n",
      "$639,000\n",
      "$219,000\n",
      "$1,290,000\n",
      "$615,000\n"
     ]
    }
   ],
   "source": [
    "prices = soup.find_all(class_ = 'list-card-price') # get list of prices tags\n",
    "for price in prices: # for every price tag, get text (content within tags) \n",
    "    print(price.text)"
   ]
  },
  {
   "cell_type": "markdown",
   "metadata": {},
   "source": [
    "# this is some higher level python that should make sense to you"
   ]
  },
  {
   "cell_type": "code",
   "execution_count": 112,
   "metadata": {},
   "outputs": [],
   "source": [
    "def get_text(soup, class_searchterm): # makes a general function to save me time\n",
    "    results = soup.find_all(class_ = class_searchterm)\n",
    "    return [result.text for result in results]\n",
    "\n",
    "prices = get_text(soup, 'list-card-price')\n",
    "addresses = get_text(soup, 'list-card-addr')\n",
    "\n"
   ]
  },
  {
   "cell_type": "code",
   "execution_count": 117,
   "metadata": {},
   "outputs": [
    {
     "data": {
      "text/plain": [
       "{'address': ['3460 Harding St, Carlsbad, CA 92008',\n",
       "  '1676 Corte Orchidia, Carlsbad, CA 92011',\n",
       "  '3307 Rancho Carrizo, Carlsbad, CA 92009',\n",
       "  '2630 Pirineos Way UNIT 11, Carlsbad, CA 92009',\n",
       "  '3131 Avenida Topanga, Carlsbad, CA 92009',\n",
       "  '2501 Navarra Dr UNIT 124, Carlsbad, CA 92009',\n",
       "  '7266 San Luis St, Carlsbad, CA 92011',\n",
       "  '3482 Rich Field Dr, Carlsbad, CA 92010',\n",
       "  '3129 Avenida Topanga, Carlsbad, CA 92009'],\n",
       " 'prices': ['$1,295,000',\n",
       "  '$1,575,000',\n",
       "  '$1,149,999',\n",
       "  '$559,900',\n",
       "  '$537,000',\n",
       "  '$639,000',\n",
       "  '$219,000',\n",
       "  '$1,290,000',\n",
       "  '$615,000']}"
      ]
     },
     "execution_count": 117,
     "metadata": {},
     "output_type": "execute_result"
    }
   ],
   "source": [
    "# use a dictionary <3\n",
    "\n",
    "data = {'address': [], 'prices': []}\n",
    "for index, address in enumerate(addresses):\n",
    "    data['address'].append(address)\n",
    "    data['prices'].append(prices[index])\n",
    "    \n",
    "data"
   ]
  },
  {
   "cell_type": "code",
   "execution_count": 119,
   "metadata": {},
   "outputs": [
    {
     "data": {
      "text/html": [
       "<div>\n",
       "<style scoped>\n",
       "    .dataframe tbody tr th:only-of-type {\n",
       "        vertical-align: middle;\n",
       "    }\n",
       "\n",
       "    .dataframe tbody tr th {\n",
       "        vertical-align: top;\n",
       "    }\n",
       "\n",
       "    .dataframe thead th {\n",
       "        text-align: right;\n",
       "    }\n",
       "</style>\n",
       "<table border=\"1\" class=\"dataframe\">\n",
       "  <thead>\n",
       "    <tr style=\"text-align: right;\">\n",
       "      <th></th>\n",
       "      <th>address</th>\n",
       "      <th>prices</th>\n",
       "    </tr>\n",
       "  </thead>\n",
       "  <tbody>\n",
       "    <tr>\n",
       "      <th>0</th>\n",
       "      <td>3460 Harding St, Carlsbad, CA 92008</td>\n",
       "      <td>$1,295,000</td>\n",
       "    </tr>\n",
       "    <tr>\n",
       "      <th>1</th>\n",
       "      <td>1676 Corte Orchidia, Carlsbad, CA 92011</td>\n",
       "      <td>$1,575,000</td>\n",
       "    </tr>\n",
       "    <tr>\n",
       "      <th>2</th>\n",
       "      <td>3307 Rancho Carrizo, Carlsbad, CA 92009</td>\n",
       "      <td>$1,149,999</td>\n",
       "    </tr>\n",
       "    <tr>\n",
       "      <th>3</th>\n",
       "      <td>2630 Pirineos Way UNIT 11, Carlsbad, CA 92009</td>\n",
       "      <td>$559,900</td>\n",
       "    </tr>\n",
       "    <tr>\n",
       "      <th>4</th>\n",
       "      <td>3131 Avenida Topanga, Carlsbad, CA 92009</td>\n",
       "      <td>$537,000</td>\n",
       "    </tr>\n",
       "    <tr>\n",
       "      <th>5</th>\n",
       "      <td>2501 Navarra Dr UNIT 124, Carlsbad, CA 92009</td>\n",
       "      <td>$639,000</td>\n",
       "    </tr>\n",
       "    <tr>\n",
       "      <th>6</th>\n",
       "      <td>7266 San Luis St, Carlsbad, CA 92011</td>\n",
       "      <td>$219,000</td>\n",
       "    </tr>\n",
       "    <tr>\n",
       "      <th>7</th>\n",
       "      <td>3482 Rich Field Dr, Carlsbad, CA 92010</td>\n",
       "      <td>$1,290,000</td>\n",
       "    </tr>\n",
       "    <tr>\n",
       "      <th>8</th>\n",
       "      <td>3129 Avenida Topanga, Carlsbad, CA 92009</td>\n",
       "      <td>$615,000</td>\n",
       "    </tr>\n",
       "  </tbody>\n",
       "</table>\n",
       "</div>"
      ],
      "text/plain": [
       "                                         address      prices\n",
       "0            3460 Harding St, Carlsbad, CA 92008  $1,295,000\n",
       "1        1676 Corte Orchidia, Carlsbad, CA 92011  $1,575,000\n",
       "2        3307 Rancho Carrizo, Carlsbad, CA 92009  $1,149,999\n",
       "3  2630 Pirineos Way UNIT 11, Carlsbad, CA 92009    $559,900\n",
       "4       3131 Avenida Topanga, Carlsbad, CA 92009    $537,000\n",
       "5   2501 Navarra Dr UNIT 124, Carlsbad, CA 92009    $639,000\n",
       "6           7266 San Luis St, Carlsbad, CA 92011    $219,000\n",
       "7         3482 Rich Field Dr, Carlsbad, CA 92010  $1,290,000\n",
       "8       3129 Avenida Topanga, Carlsbad, CA 92009    $615,000"
      ]
     },
     "execution_count": 119,
     "metadata": {},
     "output_type": "execute_result"
    }
   ],
   "source": [
    "dataframe = pd.DataFrame.from_dict(data)\n",
    "dataframe"
   ]
  },
  {
   "cell_type": "code",
   "execution_count": 120,
   "metadata": {},
   "outputs": [],
   "source": [
    "dataframe.to_csv('zillow_carlsbad.csv')"
   ]
  },
  {
   "cell_type": "code",
   "execution_count": null,
   "metadata": {},
   "outputs": [],
   "source": []
  }
 ],
 "metadata": {
  "kernelspec": {
   "display_name": "Python 3",
   "language": "python",
   "name": "python3"
  },
  "language_info": {
   "codemirror_mode": {
    "name": "ipython",
    "version": 3
   },
   "file_extension": ".py",
   "mimetype": "text/x-python",
   "name": "python",
   "nbconvert_exporter": "python",
   "pygments_lexer": "ipython3",
   "version": "3.8.8"
  }
 },
 "nbformat": 4,
 "nbformat_minor": 4
}
